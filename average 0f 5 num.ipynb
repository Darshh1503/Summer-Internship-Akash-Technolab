{
 "cells": [
  {
   "cell_type": "code",
   "execution_count": 1,
   "id": "9ff0ec61",
   "metadata": {},
   "outputs": [
    {
     "name": "stdout",
     "output_type": "stream",
     "text": [
      "please enter the num=1\n",
      "please enter the num=2\n",
      "please enter the num=3\n",
      "please enter the num=4\n",
      "please enter the num=5\n",
      "average of 5 num = 3.0\n"
     ]
    }
   ],
   "source": [
    "sum=0\n",
    "for i in range(0,5):\n",
    "    a=int(input(\"please enter the num=\"))\n",
    "    sum=sum+a\n",
    "average=sum/5\n",
    "print(\"average of 5 num =\",average)"
   ]
  },
  {
   "cell_type": "code",
   "execution_count": null,
   "id": "4c6b123a",
   "metadata": {},
   "outputs": [],
   "source": []
  }
 ],
 "metadata": {
  "kernelspec": {
   "display_name": "Python 3",
   "language": "python",
   "name": "python3"
  },
  "language_info": {
   "codemirror_mode": {
    "name": "ipython",
    "version": 3
   },
   "file_extension": ".py",
   "mimetype": "text/x-python",
   "name": "python",
   "nbconvert_exporter": "python",
   "pygments_lexer": "ipython3",
   "version": "3.8.8"
  }
 },
 "nbformat": 4,
 "nbformat_minor": 5
}
