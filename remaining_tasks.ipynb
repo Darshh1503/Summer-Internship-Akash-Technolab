{
  "nbformat": 4,
  "nbformat_minor": 0,
  "metadata": {
    "colab": {
      "name": "remaining tasks.ipynb",
      "provenance": []
    },
    "kernelspec": {
      "name": "python3",
      "display_name": "Python 3"
    },
    "language_info": {
      "name": "python"
    }
  },
  "cells": [
    {
      "cell_type": "code",
      "execution_count": 1,
      "metadata": {
        "colab": {
          "base_uri": "https://localhost:8080/"
        },
        "id": "KZMwr37QPsXp",
        "outputId": "9a9fab8e-96d6-4692-c302-1518d7e2969a"
      },
      "outputs": [
        {
          "output_type": "stream",
          "name": "stdout",
          "text": [
            "Enter the first number: 12\n",
            "Enter the second number: 34\n",
            "First number after swapping: 34\n",
            "Second number after swapping: 12\n"
          ]
        }
      ],
      "source": [
        "A1 = int(input(\"Enter the first number: \"))\n",
        "A2 = int(input(\"Enter the second number: \"))\n",
        "temp = A1\n",
        "n1 = A2\n",
        "n2 = temp\n",
        "print(\"First number after swapping:\",n1)\n",
        "print(\"Second number after swapping:\",n2)"
      ]
    },
    {
      "cell_type": "code",
      "source": [
        "n1 = float(input(\"Enter the first number: \"))\n",
        "n2 = float(input(\"Enter the second number: \"))\n",
        "if(n1==n2):\n",
        "    print(n1,\"and\",n2,\"are both equal.\")\n",
        "elif(n1>n2):\n",
        "    print(n2,\"is lesser of both numbers.\")\n",
        "else:\n",
        "    print(n1,\"is lesser of both numbers.\")"
      ],
      "metadata": {
        "colab": {
          "base_uri": "https://localhost:8080/"
        },
        "id": "zFhdPg-XPx8b",
        "outputId": "8b64eb2a-dc3e-4638-ba0b-cfdd9050905a"
      },
      "execution_count": 2,
      "outputs": [
        {
          "output_type": "stream",
          "name": "stdout",
          "text": [
            "Enter the first number: 34\n",
            "Enter the second number: 67\n",
            "34.0 is lesser of both numbers.\n"
          ]
        }
      ]
    },
    {
      "cell_type": "code",
      "source": [
        "import random\n",
        "num = random.randint(-500,500)\n",
        "if(num<100):\n",
        "    if(num%2==0):\n",
        "        print(num,\"is less than 100 and even.\")\n",
        "    else:\n",
        "        print(num,\"is less than 100 and odd.\")\n",
        "else:\n",
        "    print(num,\"is greater than 100.\")"
      ],
      "metadata": {
        "colab": {
          "base_uri": "https://localhost:8080/"
        },
        "id": "D_Ngc4wDP839",
        "outputId": "c85a72ce-6937-4397-b46d-a5ca0ff8aaf1"
      },
      "execution_count": 3,
      "outputs": [
        {
          "output_type": "stream",
          "name": "stdout",
          "text": [
            "283 is greater than 100.\n"
          ]
        }
      ]
    },
    {
      "cell_type": "code",
      "source": [
        "import random\n",
        "num = random.randint(-20,20)\n",
        "if(num<10):\n",
        "    print(num,\"is less than 10 and square of\",num,\"is:\",num**2,\".\")\n",
        "else:\n",
        "    print(num,\"is greater than 10.\")"
      ],
      "metadata": {
        "colab": {
          "base_uri": "https://localhost:8080/"
        },
        "id": "Aa8mz5x6QDB6",
        "outputId": "5b73245c-e3ad-4baf-c3da-30e9a8b82592"
      },
      "execution_count": 4,
      "outputs": [
        {
          "output_type": "stream",
          "name": "stdout",
          "text": [
            "1 is less than 10 and square of 1 is: 1 .\n"
          ]
        }
      ]
    },
    {
      "cell_type": "code",
      "source": [
        "import random\n",
        "num = random.randint(-20,20)\n",
        "if(num!=0):\n",
        "    if(num<0):\n",
        "        print(num,\"is less than zero.\")\n",
        "    elif(num>0):\n",
        "        print(num,\"is greater than zero.\")\n",
        "else:\n",
        "    print(num,\"is a zero.\")"
      ],
      "metadata": {
        "colab": {
          "base_uri": "https://localhost:8080/"
        },
        "id": "31jrqkRoQRJj",
        "outputId": "d7ec94a1-f92e-4dae-e784-3e3121d8757b"
      },
      "execution_count": 5,
      "outputs": [
        {
          "output_type": "stream",
          "name": "stdout",
          "text": [
            "-9 is less than zero.\n"
          ]
        }
      ]
    },
    {
      "cell_type": "code",
      "source": [
        "import random\n",
        "n1 = random.randint(0,10)\n",
        "n2 = random.randint(0,20)\n",
        "n3 = random.randint(0,30)\n",
        "print(\"Numbers are:\\n1.\",n1,\"\\n2.\",n2,\"\\n3.\",n3)\n",
        "if(n1<n2 and n1<n3):\n",
        "    print(n1,\"is the smallest of them all.\")\n",
        "elif(n2<n1 and n2<n3):\n",
        "    print(n2,\"is the smallest of them all.\")\n",
        "else:\n",
        "    print(n3,\"is the smallest of them all.\")"
      ],
      "metadata": {
        "colab": {
          "base_uri": "https://localhost:8080/"
        },
        "id": "Zs44oVLeQYGs",
        "outputId": "7b2c6e40-ad2a-4757-c90a-a3dc2f8c4f8d"
      },
      "execution_count": 6,
      "outputs": [
        {
          "output_type": "stream",
          "name": "stdout",
          "text": [
            "Numbers are:\n",
            "1. 5 \n",
            "2. 14 \n",
            "3. 8\n",
            "5 is the smallest of them all.\n"
          ]
        }
      ]
    },
    {
      "cell_type": "code",
      "source": [
        "import random\n",
        "n1 = random.randint(0,10)\n",
        "n2 = random.randint(0,20)\n",
        "print(\"Numbers before swapping are:\\n1.\",n1,\"\\n2.\",n2)\n",
        "n1 = n1 + n2\n",
        "n2 = n1 - n2\n",
        "n1 = n1 - n2\n",
        "print(\"Numbers after swapping are:\\n1.\",n1,\"\\n2.\",n2)"
      ],
      "metadata": {
        "colab": {
          "base_uri": "https://localhost:8080/"
        },
        "id": "kXjHV2qTRDK8",
        "outputId": "c852ca2c-f5ae-4688-d92e-190ee6e65b83"
      },
      "execution_count": 7,
      "outputs": [
        {
          "output_type": "stream",
          "name": "stdout",
          "text": [
            "Numbers before swapping are:\n",
            "1. 6 \n",
            "2. 0\n",
            "Numbers after swapping are:\n",
            "1. 0 \n",
            "2. 6\n"
          ]
        }
      ]
    },
    {
      "cell_type": "code",
      "source": [
        "import string\n",
        "str = input(\"Enter the character that you want to check: \")\n",
        "if(str.isalpha()):\n",
        "    print(\"The character is an alphabet.\")\n",
        "else: \n",
        "    print(\"The character is not an alphabet.\")"
      ],
      "metadata": {
        "colab": {
          "base_uri": "https://localhost:8080/"
        },
        "id": "0UQJB14dRI4j",
        "outputId": "f8da3205-caf4-43d7-b068-45ef23e8cca1"
      },
      "execution_count": 8,
      "outputs": [
        {
          "output_type": "stream",
          "name": "stdout",
          "text": [
            "Enter the character that you want to check: DARSH\n",
            "The character is an alphabet.\n"
          ]
        }
      ]
    },
    {
      "cell_type": "code",
      "source": [
        "num = int(input(\"Enter the number that you want the table of: \"))\n",
        "start = int(input(\"Where do you want to start the table from? \"))\n",
        "end = int(input(\"Where do you want to end the table? \"))\n",
        "print(\"Table of\",num,\"is:\")\n",
        "for i in range(start,end+1):\n",
        "    print(num,\"*\",i,\"=\",num*i,\"\\n\")"
      ],
      "metadata": {
        "colab": {
          "base_uri": "https://localhost:8080/"
        },
        "id": "8JBTbLWkRNmd",
        "outputId": "2a377c01-c1ba-43b8-bca6-769051c914bd"
      },
      "execution_count": 9,
      "outputs": [
        {
          "output_type": "stream",
          "name": "stdout",
          "text": [
            "Enter the number that you want the table of: 4\n",
            "Where do you want to start the table from? 1\n",
            "Where do you want to end the table? 10\n",
            "Table of 4 is:\n",
            "4 * 1 = 4 \n",
            "\n",
            "4 * 2 = 8 \n",
            "\n",
            "4 * 3 = 12 \n",
            "\n",
            "4 * 4 = 16 \n",
            "\n",
            "4 * 5 = 20 \n",
            "\n",
            "4 * 6 = 24 \n",
            "\n",
            "4 * 7 = 28 \n",
            "\n",
            "4 * 8 = 32 \n",
            "\n",
            "4 * 9 = 36 \n",
            "\n",
            "4 * 10 = 40 \n",
            "\n"
          ]
        }
      ]
    },
    {
      "cell_type": "code",
      "source": [
        "num = int(input(\"Enter the number: \"))\n",
        "sum = 0\n",
        "if(num<=0):\n",
        "    print(\"Enter a number that is greater than zero\")\n",
        "    num = int(input(\"Re-enter the number: \"))\n",
        "for i in range(1,num+1):\n",
        "    sum+=i\n",
        "print(\"Sum of all the natural numbers till given number is:\",sum)"
      ],
      "metadata": {
        "colab": {
          "base_uri": "https://localhost:8080/"
        },
        "id": "0Pbr-w-2RVOP",
        "outputId": "4deba113-a3b7-4f56-88e0-349d6248bb9a"
      },
      "execution_count": 10,
      "outputs": [
        {
          "output_type": "stream",
          "name": "stdout",
          "text": [
            "Enter the number: 12\n",
            "Sum of all the natural numbers till given number is: 78\n"
          ]
        }
      ]
    },
    {
      "cell_type": "code",
      "source": [
        "import string\n",
        "print(\"Alphabet from a-z:\")\n",
        "for letter in string.ascii_lowercase:\n",
        "   print(letter, end =\" \")\n",
        "print(\"\\nAlphabet from A-Z:\")\n",
        "for letter in string.ascii_uppercase:\n",
        "   print(letter, end =\" \")"
      ],
      "metadata": {
        "colab": {
          "base_uri": "https://localhost:8080/"
        },
        "id": "wmzpbh4CSEG2",
        "outputId": "9bd6fa76-3923-4975-d007-2968f78e892b"
      },
      "execution_count": 11,
      "outputs": [
        {
          "output_type": "stream",
          "name": "stdout",
          "text": [
            "Alphabet from a-z:\n",
            "a b c d e f g h i j k l m n o p q r s t u v w x y z \n",
            "Alphabet from A-Z:\n",
            "A B C D E F G H I J K L M N O P Q R S T U V W X Y Z "
          ]
        }
      ]
    },
    {
      "cell_type": "code",
      "source": [
        "print(\"      1. Addition\")\n",
        "print(\"      2. Substraction\")\n",
        "print(\"      3. Multiplication\")\n",
        "print(\"      4. Division\")\n",
        "action = int(input(\"Select the action that you want to perform: \"))\n",
        "case(action)\n",
        "    case 1:\n",
        "        num1 = int(input(\"Enter the first number: \"))\n",
        "        num2 = int(input(\"Enter the second number: \"))\n",
        "        print(\"Addition of numbers is:\",num1+num2)\n",
        "    case 2:\n",
        "        num1 = int(input(\"Enter the first number: \"))\n",
        "        num2 = int(input(\"Enter the second number: \"))\n",
        "        print(\"Substraction of numbers is:\",num1-num2)\n",
        "    case 3:\n",
        "        num1 = int(input(\"Enter the first number: \"))\n",
        "        num2 = int(input(\"Enter the second number: \"))\n",
        "        print(\"Multiplication of numbers is:\",num1*num2)\n",
        "    case 4:\n",
        "        num1 = int(input(\"Enter the first number: \"))\n",
        "        num2 = int(input(\"Enter the second number: \"))        \n",
        "        print(\"Division of numbers is:\",num1/num2)"
      ],
      "metadata": {
        "colab": {
          "base_uri": "https://localhost:8080/",
          "height": 135
        },
        "id": "RnCYAW5JTTE1",
        "outputId": "d50f46dd-0cfb-4230-ce68-4161dc782b13"
      },
      "execution_count": 19,
      "outputs": [
        {
          "output_type": "error",
          "ename": "IndentationError",
          "evalue": "ignored",
          "traceback": [
            "\u001b[0;36m  File \u001b[0;32m\"<ipython-input-19-231a87d86c7b>\"\u001b[0;36m, line \u001b[0;32m7\u001b[0m\n\u001b[0;31m    case 1:\u001b[0m\n\u001b[0m    ^\u001b[0m\n\u001b[0;31mIndentationError\u001b[0m\u001b[0;31m:\u001b[0m unexpected indent\n"
          ]
        }
      ]
    },
    {
      "cell_type": "code",
      "source": [
        "import statistics\n",
        "import random\n",
        "lst = []\n",
        "for i in range(0, 5):\n",
        "    ele = random.randint(0,100)\n",
        "    lst.append(ele)\n",
        "print(\"Marks in subject are:\\n\",lst)\n",
        "pr = (statistics.mean(lst))\n",
        "print(\"Your percentage is:\",pr)\n",
        "if(pr<50):\n",
        "    print(\"Grade is F\")\n",
        "elif(pr>=50 or pr<60):\n",
        "    print(\"Grade is D\")\n",
        "elif(pr>=60 or pr<70):\n",
        "    print(\"Grade is C\")\n",
        "elif(pr>=70 or pr<80):\n",
        "    print(\"Grade is B\")\n",
        "elif(pr>=80 or pr<90):\n",
        "    print(\"Grade is A\")\n",
        "else:\n",
        "    print(\"Grade is A+\")"
      ],
      "metadata": {
        "colab": {
          "base_uri": "https://localhost:8080/"
        },
        "id": "7fmQY1pFTZd9",
        "outputId": "1c6c5cf2-06d3-4bfa-8387-febeb20be278"
      },
      "execution_count": 15,
      "outputs": [
        {
          "output_type": "stream",
          "name": "stdout",
          "text": [
            "Marks in subject are:\n",
            " [34, 30, 45, 50, 26]\n",
            "Your percentage is: 37\n",
            "Grade is F\n"
          ]
        }
      ]
    },
    {
      "cell_type": "code",
      "source": [
        "lst = []\n",
        "start = int(input(\"Enter the starting number of the series: \"))\n",
        "end = int(input(\"Enter the ending number of the series: \"))\n",
        "n = int(start/3)\n",
        "for i in range(0,n+1):\n",
        "    ele = start - (3*i)\n",
        "    if(ele<=end):\n",
        "        break\n",
        "    lst.append(ele)\n",
        "print(\"The series generated is:\\n\",lst)"
      ],
      "metadata": {
        "colab": {
          "base_uri": "https://localhost:8080/"
        },
        "id": "Vc6t3sAFT0uY",
        "outputId": "683307e1-9b96-42ea-a488-0409e698c14a"
      },
      "execution_count": 17,
      "outputs": [
        {
          "output_type": "stream",
          "name": "stdout",
          "text": [
            "Enter the starting number of the series: 6\n",
            "Enter the ending number of the series: 110\n",
            "The series generated is:\n",
            " []\n"
          ]
        }
      ]
    },
    {
      "cell_type": "code",
      "source": [
        ""
      ],
      "metadata": {
        "id": "18kbZzQfT7h2"
      },
      "execution_count": null,
      "outputs": []
    }
  ]
}