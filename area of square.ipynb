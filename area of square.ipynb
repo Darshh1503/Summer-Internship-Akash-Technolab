{
 "cells": [
  {
   "cell_type": "code",
   "execution_count": 2,
   "id": "beb7c4b2",
   "metadata": {},
   "outputs": [
    {
     "name": "stdout",
     "output_type": "stream",
     "text": [
      "please enter the length for calculate the area of squre =3\n",
      "area of squre = length*length= 9\n"
     ]
    }
   ],
   "source": [
    "length=int(input(\"please enter the length for calculate the area of square =\"))\n",
    "\n",
    "area=length**2\n",
    "print(\"area of square = length*length=\",area)"
   ]
  },
  {
   "cell_type": "code",
   "execution_count": null,
   "id": "6a7ee738",
   "metadata": {},
   "outputs": [],
   "source": []
  }
 ],
 "metadata": {
  "kernelspec": {
   "display_name": "Python 3",
   "language": "python",
   "name": "python3"
  },
  "language_info": {
   "codemirror_mode": {
    "name": "ipython",
    "version": 3
   },
   "file_extension": ".py",
   "mimetype": "text/x-python",
   "name": "python",
   "nbconvert_exporter": "python",
   "pygments_lexer": "ipython3",
   "version": "3.8.8"
  }
 },
 "nbformat": 4,
 "nbformat_minor": 5
}
