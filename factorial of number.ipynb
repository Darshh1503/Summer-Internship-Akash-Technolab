{
 "cells": [
  {
   "cell_type": "code",
   "execution_count": 2,
   "id": "c926160a",
   "metadata": {},
   "outputs": [
    {
     "name": "stdout",
     "output_type": "stream",
     "text": [
      "please enter the num a=3\n",
      "factorial of number is= 6\n"
     ]
    }
   ],
   "source": [
    "a=int(input(\"please enter the num a=\"))\n",
    "fact=1\n",
    "for i in range(1,a+1):\n",
    "    fact=i*fact\n",
    "print(\"factorial of number is=\",fact)"
   ]
  },
  {
   "cell_type": "code",
   "execution_count": null,
   "id": "02e9144a",
   "metadata": {},
   "outputs": [],
   "source": []
  }
 ],
 "metadata": {
  "kernelspec": {
   "display_name": "Python 3",
   "language": "python",
   "name": "python3"
  },
  "language_info": {
   "codemirror_mode": {
    "name": "ipython",
    "version": 3
   },
   "file_extension": ".py",
   "mimetype": "text/x-python",
   "name": "python",
   "nbconvert_exporter": "python",
   "pygments_lexer": "ipython3",
   "version": "3.8.8"
  }
 },
 "nbformat": 4,
 "nbformat_minor": 5
}
