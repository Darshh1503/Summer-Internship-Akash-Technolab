{
 "cells": [
  {
   "cell_type": "code",
   "execution_count": 1,
   "id": "693413db",
   "metadata": {},
   "outputs": [
    {
     "name": "stdout",
     "output_type": "stream",
     "text": [
      "please enter the radius for calculate the area of circle =12\n",
      "area of circle =pi*radius*radius  = 452.15999999999997\n"
     ]
    }
   ],
   "source": [
    "radius=int(input(\"please enter the radius for calculate the area of circle =\"))\n",
    "pi=3.14\n",
    "area=pi*radius*radius\n",
    "print(\"area of circle =pi*radius*radius  =\",area)"
   ]
  },
  {
   "cell_type": "code",
   "execution_count": null,
   "id": "7e2575bd",
   "metadata": {},
   "outputs": [],
   "source": []
  }
 ],
 "metadata": {
  "kernelspec": {
   "display_name": "Python 3",
   "language": "python",
   "name": "python3"
  },
  "language_info": {
   "codemirror_mode": {
    "name": "ipython",
    "version": 3
   },
   "file_extension": ".py",
   "mimetype": "text/x-python",
   "name": "python",
   "nbconvert_exporter": "python",
   "pygments_lexer": "ipython3",
   "version": "3.8.8"
  }
 },
 "nbformat": 4,
 "nbformat_minor": 5
}
