{
 "cells": [
  {
   "cell_type": "code",
   "execution_count": 1,
   "id": "38d20a14",
   "metadata": {},
   "outputs": [
    {
     "name": "stdout",
     "output_type": "stream",
     "text": [
      "please enter the num a=3\n",
      "please enter the num b=4\n",
      "after swaping the numbers are a= 4\n",
      "b= 3\n"
     ]
    }
   ],
   "source": [
    "a=int(input(\"please enter the num a=\"))\n",
    "b=int(input(\"please enter the num b=\"))\n",
    "c=a\n",
    "a=b\n",
    "b=c\n",
    "print(\"after swaping the numbers are a=\",a)\n",
    "print(\"b=\",b)"
   ]
  },
  {
   "cell_type": "code",
   "execution_count": null,
   "id": "5307814b",
   "metadata": {},
   "outputs": [],
   "source": []
  }
 ],
 "metadata": {
  "kernelspec": {
   "display_name": "Python 3",
   "language": "python",
   "name": "python3"
  },
  "language_info": {
   "codemirror_mode": {
    "name": "ipython",
    "version": 3
   },
   "file_extension": ".py",
   "mimetype": "text/x-python",
   "name": "python",
   "nbconvert_exporter": "python",
   "pygments_lexer": "ipython3",
   "version": "3.8.8"
  }
 },
 "nbformat": 4,
 "nbformat_minor": 5
}
