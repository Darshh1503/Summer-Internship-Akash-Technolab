{
 "cells": [
  {
   "cell_type": "code",
   "execution_count": 3,
   "id": "76b36cc5",
   "metadata": {},
   "outputs": [
    {
     "name": "stdout",
     "output_type": "stream",
     "text": [
      "please enter the num a=2\n",
      "please enter the num b=2\n",
      "both numbers are same\n"
     ]
    }
   ],
   "source": [
    "a=int(input(\"please enter the num a=\"))\n",
    "b=int(input(\"please enter the num b=\"))\n",
    "if a==b:\n",
    "    print(\"both numbers are same\")\n",
    "elif a>b:\n",
    "    print(\"a number is greter than b\")\n",
    "else :\n",
    "    print(\"b number is greter than a\")\n",
    "\n"
   ]
  },
  {
   "cell_type": "code",
   "execution_count": null,
   "id": "938f7d79",
   "metadata": {},
   "outputs": [],
   "source": []
  }
 ],
 "metadata": {
  "kernelspec": {
   "display_name": "Python 3",
   "language": "python",
   "name": "python3"
  },
  "language_info": {
   "codemirror_mode": {
    "name": "ipython",
    "version": 3
   },
   "file_extension": ".py",
   "mimetype": "text/x-python",
   "name": "python",
   "nbconvert_exporter": "python",
   "pygments_lexer": "ipython3",
   "version": "3.8.8"
  }
 },
 "nbformat": 4,
 "nbformat_minor": 5
}
