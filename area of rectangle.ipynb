{
 "cells": [
  {
   "cell_type": "code",
   "execution_count": 3,
   "id": "b5974fd5",
   "metadata": {},
   "outputs": [
    {
     "name": "stdout",
     "output_type": "stream",
     "text": [
      "please enter the length for calculate the area of rectangle =12\n",
      "please enter the width for calculate the area of rectangle =34\n",
      "area of rectangle = length*width = 408\n"
     ]
    }
   ],
   "source": [
    "length=int(input(\"please enter the length for calculate the area of rectangle =\"))\n",
    "width=int(input(\"please enter the width for calculate the area of rectangle =\"))\n",
    "area=length*width\n",
    "print(\"area of rectangle = length*width =\",area)"
   ]
  },
  {
   "cell_type": "code",
   "execution_count": null,
   "id": "4f33f016",
   "metadata": {},
   "outputs": [],
   "source": []
  }
 ],
 "metadata": {
  "kernelspec": {
   "display_name": "Python 3",
   "language": "python",
   "name": "python3"
  },
  "language_info": {
   "codemirror_mode": {
    "name": "ipython",
    "version": 3
   },
   "file_extension": ".py",
   "mimetype": "text/x-python",
   "name": "python",
   "nbconvert_exporter": "python",
   "pygments_lexer": "ipython3",
   "version": "3.8.8"
  }
 },
 "nbformat": 4,
 "nbformat_minor": 5
}
