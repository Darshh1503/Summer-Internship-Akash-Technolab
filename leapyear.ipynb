{
 "cells": [
  {
   "cell_type": "code",
   "execution_count": 1,
   "id": "b2971e4e",
   "metadata": {},
   "outputs": [
    {
     "name": "stdout",
     "output_type": "stream",
     "text": [
      "please enter the year=2004\n",
      "year is leap year\n"
     ]
    }
   ],
   "source": [
    "a=int(input(\"please enter the year=\"))\n",
    "if a%4==0:\n",
    "    print(\"year is leap year\")\n",
    "else:\n",
    "     print(\"year is not leap year\")\n",
    "    "
   ]
  },
  {
   "cell_type": "code",
   "execution_count": null,
   "id": "da21584a",
   "metadata": {},
   "outputs": [],
   "source": []
  }
 ],
 "metadata": {
  "kernelspec": {
   "display_name": "Python 3",
   "language": "python",
   "name": "python3"
  },
  "language_info": {
   "codemirror_mode": {
    "name": "ipython",
    "version": 3
   },
   "file_extension": ".py",
   "mimetype": "text/x-python",
   "name": "python",
   "nbconvert_exporter": "python",
   "pygments_lexer": "ipython3",
   "version": "3.8.8"
  }
 },
 "nbformat": 4,
 "nbformat_minor": 5
}
